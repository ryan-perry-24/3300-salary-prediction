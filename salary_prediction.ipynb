{
 "cells": [
  {
   "cell_type": "markdown",
   "metadata": {},
   "source": [
    "# Build a Random Forest Regression Model"
   ]
  },
  {
   "cell_type": "markdown",
   "metadata": {},
   "source": [
    "Import libraries"
   ]
  },
  {
   "cell_type": "code",
   "execution_count": 1,
   "metadata": {},
   "outputs": [],
   "source": [
    "import pandas as pd\n",
    "import joblib\n",
    "from sklearn.preprocessing import LabelEncoder\n",
    "import random\n",
    "from sklearn.model_selection import train_test_split\n",
    "from sklearn.ensemble import RandomForestRegressor\n",
    "from sklearn.metrics import mean_absolute_error, r2_score\n",
    "from sklearn.metrics import mean_squared_error\n"
   ]
  },
  {
   "cell_type": "markdown",
   "metadata": {},
   "source": [
    "## Read the data"
   ]
  },
  {
   "cell_type": "markdown",
   "metadata": {},
   "source": [
    "Read in the .csv file.  This .csv file has been reduced to only the necessary columns.  \n",
    "  \n",
    "Look at the data shape to determine the number of rows and columns."
   ]
  },
  {
   "cell_type": "code",
   "execution_count": 2,
   "metadata": {},
   "outputs": [
    {
     "name": "stdout",
     "output_type": "stream",
     "text": [
      "(23997, 9)\n"
     ]
    },
    {
     "data": {
      "text/html": [
       "<div>\n",
       "<style scoped>\n",
       "    .dataframe tbody tr th:only-of-type {\n",
       "        vertical-align: middle;\n",
       "    }\n",
       "\n",
       "    .dataframe tbody tr th {\n",
       "        vertical-align: top;\n",
       "    }\n",
       "\n",
       "    .dataframe thead th {\n",
       "        text-align: right;\n",
       "    }\n",
       "</style>\n",
       "<table border=\"1\" class=\"dataframe\">\n",
       "  <thead>\n",
       "    <tr style=\"text-align: right;\">\n",
       "      <th></th>\n",
       "      <th>age</th>\n",
       "      <th>gender</th>\n",
       "      <th>country</th>\n",
       "      <th>highest_deg</th>\n",
       "      <th>code_experience</th>\n",
       "      <th>current_title</th>\n",
       "      <th>industry</th>\n",
       "      <th>company_size</th>\n",
       "      <th>annual_comp</th>\n",
       "    </tr>\n",
       "  </thead>\n",
       "  <tbody>\n",
       "    <tr>\n",
       "      <th>0</th>\n",
       "      <td>30-34</td>\n",
       "      <td>Man</td>\n",
       "      <td>India</td>\n",
       "      <td>NaN</td>\n",
       "      <td>NaN</td>\n",
       "      <td>NaN</td>\n",
       "      <td>NaN</td>\n",
       "      <td>NaN</td>\n",
       "      <td>NaN</td>\n",
       "    </tr>\n",
       "    <tr>\n",
       "      <th>1</th>\n",
       "      <td>30-34</td>\n",
       "      <td>Man</td>\n",
       "      <td>Algeria</td>\n",
       "      <td>Master’s degree</td>\n",
       "      <td>1-3 years</td>\n",
       "      <td>NaN</td>\n",
       "      <td>NaN</td>\n",
       "      <td>NaN</td>\n",
       "      <td>NaN</td>\n",
       "    </tr>\n",
       "    <tr>\n",
       "      <th>2</th>\n",
       "      <td>18-21</td>\n",
       "      <td>Man</td>\n",
       "      <td>Egypt</td>\n",
       "      <td>Bachelor’s degree</td>\n",
       "      <td>1-3 years</td>\n",
       "      <td>NaN</td>\n",
       "      <td>NaN</td>\n",
       "      <td>NaN</td>\n",
       "      <td>NaN</td>\n",
       "    </tr>\n",
       "    <tr>\n",
       "      <th>3</th>\n",
       "      <td>55-59</td>\n",
       "      <td>Man</td>\n",
       "      <td>France</td>\n",
       "      <td>Some college/university study without earning ...</td>\n",
       "      <td>10-20 years</td>\n",
       "      <td>Data Scientist</td>\n",
       "      <td>Online Service/Internet-based Services</td>\n",
       "      <td>0-49 employees</td>\n",
       "      <td>25,000-29,999</td>\n",
       "    </tr>\n",
       "    <tr>\n",
       "      <th>4</th>\n",
       "      <td>45-49</td>\n",
       "      <td>Man</td>\n",
       "      <td>India</td>\n",
       "      <td>Bachelor’s degree</td>\n",
       "      <td>5-10 years</td>\n",
       "      <td>NaN</td>\n",
       "      <td>NaN</td>\n",
       "      <td>NaN</td>\n",
       "      <td>NaN</td>\n",
       "    </tr>\n",
       "  </tbody>\n",
       "</table>\n",
       "</div>"
      ],
      "text/plain": [
       "     age gender  country                                        highest_deg  \\\n",
       "0  30-34    Man    India                                                NaN   \n",
       "1  30-34    Man  Algeria                                    Master’s degree   \n",
       "2  18-21    Man    Egypt                                  Bachelor’s degree   \n",
       "3  55-59    Man   France  Some college/university study without earning ...   \n",
       "4  45-49    Man    India                                  Bachelor’s degree   \n",
       "\n",
       "  code_experience   current_title                                industry  \\\n",
       "0             NaN             NaN                                     NaN   \n",
       "1       1-3 years             NaN                                     NaN   \n",
       "2       1-3 years             NaN                                     NaN   \n",
       "3     10-20 years  Data Scientist  Online Service/Internet-based Services   \n",
       "4      5-10 years             NaN                                     NaN   \n",
       "\n",
       "     company_size    annual_comp  \n",
       "0             NaN            NaN  \n",
       "1             NaN            NaN  \n",
       "2             NaN            NaN  \n",
       "3  0-49 employees  25,000-29,999  \n",
       "4             NaN            NaN  "
      ]
     },
     "execution_count": 2,
     "metadata": {},
     "output_type": "execute_result"
    }
   ],
   "source": [
    "#  import pandas as pd\n",
    "data = pd.read_csv('https://raw.githubusercontent.com/mikecolbert/3300-salary-prediction-model/refs/heads/main/2022_kaggle_survey_results_public.csv')\n",
    "print(data.shape) # rows, columns\n",
    "\n",
    "data.head() # look at the first few rows"
   ]
  },
  {
   "cell_type": "markdown",
   "metadata": {},
   "source": [
    "<br>"
   ]
  },
  {
   "cell_type": "markdown",
   "metadata": {},
   "source": [
    "## Clean the data"
   ]
  },
  {
   "cell_type": "markdown",
   "metadata": {},
   "source": [
    "How many cells are NULL in each column?"
   ]
  },
  {
   "cell_type": "code",
   "execution_count": 3,
   "metadata": {},
   "outputs": [
    {
     "data": {
      "text/plain": [
       "age                    0\n",
       "gender                 0\n",
       "country                0\n",
       "highest_deg          599\n",
       "code_experience      754\n",
       "current_title      13367\n",
       "industry           14903\n",
       "company_size       14931\n",
       "annual_comp        15861\n",
       "dtype: int64"
      ]
     },
     "execution_count": 3,
     "metadata": {},
     "output_type": "execute_result"
    }
   ],
   "source": [
    "data.isnull().sum() # check for missing values in each column"
   ]
  },
  {
   "cell_type": "markdown",
   "metadata": {},
   "source": [
    "What proportion of the data contains one or more missing values (NULL) in the row?"
   ]
  },
  {
   "cell_type": "code",
   "execution_count": 4,
   "metadata": {},
   "outputs": [
    {
     "data": {
      "text/plain": [
       "0.6609576197024628"
      ]
     },
     "execution_count": 4,
     "metadata": {},
     "output_type": "execute_result"
    }
   ],
   "source": [
    "(data.shape[0] - data.dropna().shape[0])/data.shape[0] # proportion of rows with missing values\n",
    "#24% of the rows have missing values"
   ]
  },
  {
   "cell_type": "markdown",
   "metadata": {},
   "source": [
    "We could imputate the missing values with the mean of the column but we are not focused on tuning so we will just drop the rows with missing values."
   ]
  },
  {
   "cell_type": "code",
   "execution_count": 5,
   "metadata": {},
   "outputs": [],
   "source": [
    "# drop rows with missing values (NULLs)\n",
    "data.dropna(inplace=True)"
   ]
  },
  {
   "cell_type": "markdown",
   "metadata": {},
   "source": [
    "How has the data shape changed from the original?  \n",
    "rows, columns  "
   ]
  },
  {
   "cell_type": "code",
   "execution_count": 6,
   "metadata": {},
   "outputs": [
    {
     "data": {
      "text/plain": [
       "(8136, 9)"
      ]
     },
     "execution_count": 6,
     "metadata": {},
     "output_type": "execute_result"
    }
   ],
   "source": [
    "data.shape  # rows, columns"
   ]
  },
  {
   "cell_type": "markdown",
   "metadata": {},
   "source": [
    "Look at the first few rows of the data frame."
   ]
  },
  {
   "cell_type": "code",
   "execution_count": 7,
   "metadata": {},
   "outputs": [
    {
     "data": {
      "text/html": [
       "<div>\n",
       "<style scoped>\n",
       "    .dataframe tbody tr th:only-of-type {\n",
       "        vertical-align: middle;\n",
       "    }\n",
       "\n",
       "    .dataframe tbody tr th {\n",
       "        vertical-align: top;\n",
       "    }\n",
       "\n",
       "    .dataframe thead th {\n",
       "        text-align: right;\n",
       "    }\n",
       "</style>\n",
       "<table border=\"1\" class=\"dataframe\">\n",
       "  <thead>\n",
       "    <tr style=\"text-align: right;\">\n",
       "      <th></th>\n",
       "      <th>age</th>\n",
       "      <th>gender</th>\n",
       "      <th>country</th>\n",
       "      <th>highest_deg</th>\n",
       "      <th>code_experience</th>\n",
       "      <th>current_title</th>\n",
       "      <th>industry</th>\n",
       "      <th>company_size</th>\n",
       "      <th>annual_comp</th>\n",
       "    </tr>\n",
       "  </thead>\n",
       "  <tbody>\n",
       "    <tr>\n",
       "      <th>3</th>\n",
       "      <td>55-59</td>\n",
       "      <td>Man</td>\n",
       "      <td>France</td>\n",
       "      <td>Some college/university study without earning ...</td>\n",
       "      <td>10-20 years</td>\n",
       "      <td>Data Scientist</td>\n",
       "      <td>Online Service/Internet-based Services</td>\n",
       "      <td>0-49 employees</td>\n",
       "      <td>25,000-29,999</td>\n",
       "    </tr>\n",
       "    <tr>\n",
       "      <th>7</th>\n",
       "      <td>30-34</td>\n",
       "      <td>Man</td>\n",
       "      <td>Germany</td>\n",
       "      <td>Bachelor’s degree</td>\n",
       "      <td>10-20 years</td>\n",
       "      <td>Software Engineer</td>\n",
       "      <td>Insurance/Risk Assessment</td>\n",
       "      <td>250-999 employees</td>\n",
       "      <td>100,000-124,999</td>\n",
       "    </tr>\n",
       "    <tr>\n",
       "      <th>8</th>\n",
       "      <td>70+</td>\n",
       "      <td>Man</td>\n",
       "      <td>Australia</td>\n",
       "      <td>Doctoral degree</td>\n",
       "      <td>20+ years</td>\n",
       "      <td>Research Scientist</td>\n",
       "      <td>Government/Public Service</td>\n",
       "      <td>1000-9,999 employees</td>\n",
       "      <td>100,000-124,999</td>\n",
       "    </tr>\n",
       "    <tr>\n",
       "      <th>13</th>\n",
       "      <td>40-44</td>\n",
       "      <td>Man</td>\n",
       "      <td>United States of America</td>\n",
       "      <td>Doctoral degree</td>\n",
       "      <td>10-20 years</td>\n",
       "      <td>Developer Advocate</td>\n",
       "      <td>Computers/Technology</td>\n",
       "      <td>1000-9,999 employees</td>\n",
       "      <td>200,000-249,999</td>\n",
       "    </tr>\n",
       "    <tr>\n",
       "      <th>16</th>\n",
       "      <td>40-44</td>\n",
       "      <td>Man</td>\n",
       "      <td>United States of America</td>\n",
       "      <td>Master’s degree</td>\n",
       "      <td>10-20 years</td>\n",
       "      <td>Data Scientist</td>\n",
       "      <td>Computers/Technology</td>\n",
       "      <td>1000-9,999 employees</td>\n",
       "      <td>200,000-249,999</td>\n",
       "    </tr>\n",
       "  </tbody>\n",
       "</table>\n",
       "</div>"
      ],
      "text/plain": [
       "      age gender                   country  \\\n",
       "3   55-59    Man                    France   \n",
       "7   30-34    Man                   Germany   \n",
       "8     70+    Man                 Australia   \n",
       "13  40-44    Man  United States of America   \n",
       "16  40-44    Man  United States of America   \n",
       "\n",
       "                                          highest_deg code_experience  \\\n",
       "3   Some college/university study without earning ...     10-20 years   \n",
       "7                                   Bachelor’s degree     10-20 years   \n",
       "8                                     Doctoral degree       20+ years   \n",
       "13                                    Doctoral degree     10-20 years   \n",
       "16                                    Master’s degree     10-20 years   \n",
       "\n",
       "         current_title                                industry  \\\n",
       "3       Data Scientist  Online Service/Internet-based Services   \n",
       "7    Software Engineer               Insurance/Risk Assessment   \n",
       "8   Research Scientist               Government/Public Service   \n",
       "13  Developer Advocate                    Computers/Technology   \n",
       "16      Data Scientist                    Computers/Technology   \n",
       "\n",
       "            company_size      annual_comp  \n",
       "3         0-49 employees    25,000-29,999  \n",
       "7      250-999 employees  100,000-124,999  \n",
       "8   1000-9,999 employees  100,000-124,999  \n",
       "13  1000-9,999 employees  200,000-249,999  \n",
       "16  1000-9,999 employees  200,000-249,999  "
      ]
     },
     "execution_count": 7,
     "metadata": {},
     "output_type": "execute_result"
    }
   ],
   "source": [
    "data.head()"
   ]
  },
  {
   "cell_type": "markdown",
   "metadata": {},
   "source": [
    "<br>"
   ]
  },
  {
   "cell_type": "markdown",
   "metadata": {},
   "source": [
    "## Prep the variables to use in our model"
   ]
  },
  {
   "cell_type": "markdown",
   "metadata": {},
   "source": [
    "Split the data into x and y data frames separating independent and dependent variables for prediction."
   ]
  },
  {
   "cell_type": "code",
   "execution_count": 8,
   "metadata": {},
   "outputs": [],
   "source": [
    "x = data.loc[:,['age','gender','country','highest_deg','code_experience','current_title', 'company_size']]\n",
    "y = data.loc[:,['annual_comp']]"
   ]
  },
  {
   "cell_type": "markdown",
   "metadata": {},
   "source": [
    "Review the first few rows of each data frame."
   ]
  },
  {
   "cell_type": "code",
   "execution_count": 9,
   "metadata": {},
   "outputs": [
    {
     "data": {
      "text/html": [
       "<div>\n",
       "<style scoped>\n",
       "    .dataframe tbody tr th:only-of-type {\n",
       "        vertical-align: middle;\n",
       "    }\n",
       "\n",
       "    .dataframe tbody tr th {\n",
       "        vertical-align: top;\n",
       "    }\n",
       "\n",
       "    .dataframe thead th {\n",
       "        text-align: right;\n",
       "    }\n",
       "</style>\n",
       "<table border=\"1\" class=\"dataframe\">\n",
       "  <thead>\n",
       "    <tr style=\"text-align: right;\">\n",
       "      <th></th>\n",
       "      <th>annual_comp</th>\n",
       "    </tr>\n",
       "  </thead>\n",
       "  <tbody>\n",
       "    <tr>\n",
       "      <th>3</th>\n",
       "      <td>25,000-29,999</td>\n",
       "    </tr>\n",
       "    <tr>\n",
       "      <th>7</th>\n",
       "      <td>100,000-124,999</td>\n",
       "    </tr>\n",
       "    <tr>\n",
       "      <th>8</th>\n",
       "      <td>100,000-124,999</td>\n",
       "    </tr>\n",
       "    <tr>\n",
       "      <th>13</th>\n",
       "      <td>200,000-249,999</td>\n",
       "    </tr>\n",
       "    <tr>\n",
       "      <th>16</th>\n",
       "      <td>200,000-249,999</td>\n",
       "    </tr>\n",
       "  </tbody>\n",
       "</table>\n",
       "</div>"
      ],
      "text/plain": [
       "        annual_comp\n",
       "3     25,000-29,999\n",
       "7   100,000-124,999\n",
       "8   100,000-124,999\n",
       "13  200,000-249,999\n",
       "16  200,000-249,999"
      ]
     },
     "execution_count": 9,
     "metadata": {},
     "output_type": "execute_result"
    }
   ],
   "source": [
    "y.head()"
   ]
  },
  {
   "cell_type": "code",
   "execution_count": 10,
   "metadata": {},
   "outputs": [
    {
     "data": {
      "text/html": [
       "<div>\n",
       "<style scoped>\n",
       "    .dataframe tbody tr th:only-of-type {\n",
       "        vertical-align: middle;\n",
       "    }\n",
       "\n",
       "    .dataframe tbody tr th {\n",
       "        vertical-align: top;\n",
       "    }\n",
       "\n",
       "    .dataframe thead th {\n",
       "        text-align: right;\n",
       "    }\n",
       "</style>\n",
       "<table border=\"1\" class=\"dataframe\">\n",
       "  <thead>\n",
       "    <tr style=\"text-align: right;\">\n",
       "      <th></th>\n",
       "      <th>age</th>\n",
       "      <th>gender</th>\n",
       "      <th>country</th>\n",
       "      <th>highest_deg</th>\n",
       "      <th>code_experience</th>\n",
       "      <th>current_title</th>\n",
       "      <th>company_size</th>\n",
       "    </tr>\n",
       "  </thead>\n",
       "  <tbody>\n",
       "    <tr>\n",
       "      <th>3</th>\n",
       "      <td>55-59</td>\n",
       "      <td>Man</td>\n",
       "      <td>France</td>\n",
       "      <td>Some college/university study without earning ...</td>\n",
       "      <td>10-20 years</td>\n",
       "      <td>Data Scientist</td>\n",
       "      <td>0-49 employees</td>\n",
       "    </tr>\n",
       "    <tr>\n",
       "      <th>7</th>\n",
       "      <td>30-34</td>\n",
       "      <td>Man</td>\n",
       "      <td>Germany</td>\n",
       "      <td>Bachelor’s degree</td>\n",
       "      <td>10-20 years</td>\n",
       "      <td>Software Engineer</td>\n",
       "      <td>250-999 employees</td>\n",
       "    </tr>\n",
       "    <tr>\n",
       "      <th>8</th>\n",
       "      <td>70+</td>\n",
       "      <td>Man</td>\n",
       "      <td>Australia</td>\n",
       "      <td>Doctoral degree</td>\n",
       "      <td>20+ years</td>\n",
       "      <td>Research Scientist</td>\n",
       "      <td>1000-9,999 employees</td>\n",
       "    </tr>\n",
       "    <tr>\n",
       "      <th>13</th>\n",
       "      <td>40-44</td>\n",
       "      <td>Man</td>\n",
       "      <td>United States of America</td>\n",
       "      <td>Doctoral degree</td>\n",
       "      <td>10-20 years</td>\n",
       "      <td>Developer Advocate</td>\n",
       "      <td>1000-9,999 employees</td>\n",
       "    </tr>\n",
       "    <tr>\n",
       "      <th>16</th>\n",
       "      <td>40-44</td>\n",
       "      <td>Man</td>\n",
       "      <td>United States of America</td>\n",
       "      <td>Master’s degree</td>\n",
       "      <td>10-20 years</td>\n",
       "      <td>Data Scientist</td>\n",
       "      <td>1000-9,999 employees</td>\n",
       "    </tr>\n",
       "  </tbody>\n",
       "</table>\n",
       "</div>"
      ],
      "text/plain": [
       "      age gender                   country  \\\n",
       "3   55-59    Man                    France   \n",
       "7   30-34    Man                   Germany   \n",
       "8     70+    Man                 Australia   \n",
       "13  40-44    Man  United States of America   \n",
       "16  40-44    Man  United States of America   \n",
       "\n",
       "                                          highest_deg code_experience  \\\n",
       "3   Some college/university study without earning ...     10-20 years   \n",
       "7                                   Bachelor’s degree     10-20 years   \n",
       "8                                     Doctoral degree       20+ years   \n",
       "13                                    Doctoral degree     10-20 years   \n",
       "16                                    Master’s degree     10-20 years   \n",
       "\n",
       "         current_title          company_size  \n",
       "3       Data Scientist        0-49 employees  \n",
       "7    Software Engineer     250-999 employees  \n",
       "8   Research Scientist  1000-9,999 employees  \n",
       "13  Developer Advocate  1000-9,999 employees  \n",
       "16      Data Scientist  1000-9,999 employees  "
      ]
     },
     "execution_count": 10,
     "metadata": {},
     "output_type": "execute_result"
    }
   ],
   "source": [
    "x.head()"
   ]
  },
  {
   "cell_type": "markdown",
   "metadata": {},
   "source": [
    "In the x data frame, map the categorical variables to numerical values for use in the regression model."
   ]
  },
  {
   "cell_type": "code",
   "execution_count": 11,
   "metadata": {},
   "outputs": [],
   "source": [
    "# perform label encoding since we have categorical variables\n",
    "# from sklearn.preprocessing import LabelEncoder\n",
    "\n",
    "# List of columns you want to encode\n",
    "columns_to_encode = [\n",
    "    \"age\",\n",
    "    \"gender\",\n",
    "    \"country\",\n",
    "    \"highest_deg\",\n",
    "    \"code_experience\",\n",
    "    \"current_title\",\n",
    "    \"company_size\",\n",
    "]\n",
    "\n",
    "# Loop through each column and apply LabelEncoder individually\n",
    "for column in columns_to_encode:\n",
    "    # Create a new instance of LabelEncoder for each column\n",
    "    le = LabelEncoder()\n",
    "\n",
    "    # Fit and transform the column and assign it back to the DataFrame\n",
    "    x[column +'_enc'] = le.fit_transform(x[column])"
   ]
  },
  {
   "cell_type": "markdown",
   "metadata": {},
   "source": [
    "You should now see both the categorical and encoded columns (_enc) in the data frame."
   ]
  },
  {
   "cell_type": "code",
   "execution_count": 12,
   "metadata": {},
   "outputs": [
    {
     "data": {
      "text/html": [
       "<div>\n",
       "<style scoped>\n",
       "    .dataframe tbody tr th:only-of-type {\n",
       "        vertical-align: middle;\n",
       "    }\n",
       "\n",
       "    .dataframe tbody tr th {\n",
       "        vertical-align: top;\n",
       "    }\n",
       "\n",
       "    .dataframe thead th {\n",
       "        text-align: right;\n",
       "    }\n",
       "</style>\n",
       "<table border=\"1\" class=\"dataframe\">\n",
       "  <thead>\n",
       "    <tr style=\"text-align: right;\">\n",
       "      <th></th>\n",
       "      <th>age</th>\n",
       "      <th>gender</th>\n",
       "      <th>country</th>\n",
       "      <th>highest_deg</th>\n",
       "      <th>code_experience</th>\n",
       "      <th>current_title</th>\n",
       "      <th>company_size</th>\n",
       "      <th>age_enc</th>\n",
       "      <th>gender_enc</th>\n",
       "      <th>country_enc</th>\n",
       "      <th>highest_deg_enc</th>\n",
       "      <th>code_experience_enc</th>\n",
       "      <th>current_title_enc</th>\n",
       "      <th>company_size_enc</th>\n",
       "    </tr>\n",
       "  </thead>\n",
       "  <tbody>\n",
       "    <tr>\n",
       "      <th>3</th>\n",
       "      <td>55-59</td>\n",
       "      <td>Man</td>\n",
       "      <td>France</td>\n",
       "      <td>Some college/university study without earning ...</td>\n",
       "      <td>10-20 years</td>\n",
       "      <td>Data Scientist</td>\n",
       "      <td>0-49 employees</td>\n",
       "      <td>8</td>\n",
       "      <td>0</td>\n",
       "      <td>15</td>\n",
       "      <td>6</td>\n",
       "      <td>1</td>\n",
       "      <td>4</td>\n",
       "      <td>0</td>\n",
       "    </tr>\n",
       "    <tr>\n",
       "      <th>7</th>\n",
       "      <td>30-34</td>\n",
       "      <td>Man</td>\n",
       "      <td>Germany</td>\n",
       "      <td>Bachelor’s degree</td>\n",
       "      <td>10-20 years</td>\n",
       "      <td>Software Engineer</td>\n",
       "      <td>250-999 employees</td>\n",
       "      <td>3</td>\n",
       "      <td>0</td>\n",
       "      <td>16</td>\n",
       "      <td>0</td>\n",
       "      <td>1</td>\n",
       "      <td>11</td>\n",
       "      <td>3</td>\n",
       "    </tr>\n",
       "    <tr>\n",
       "      <th>8</th>\n",
       "      <td>70+</td>\n",
       "      <td>Man</td>\n",
       "      <td>Australia</td>\n",
       "      <td>Doctoral degree</td>\n",
       "      <td>20+ years</td>\n",
       "      <td>Research Scientist</td>\n",
       "      <td>1000-9,999 employees</td>\n",
       "      <td>10</td>\n",
       "      <td>0</td>\n",
       "      <td>2</td>\n",
       "      <td>1</td>\n",
       "      <td>2</td>\n",
       "      <td>10</td>\n",
       "      <td>2</td>\n",
       "    </tr>\n",
       "    <tr>\n",
       "      <th>13</th>\n",
       "      <td>40-44</td>\n",
       "      <td>Man</td>\n",
       "      <td>United States of America</td>\n",
       "      <td>Doctoral degree</td>\n",
       "      <td>10-20 years</td>\n",
       "      <td>Developer Advocate</td>\n",
       "      <td>1000-9,999 employees</td>\n",
       "      <td>5</td>\n",
       "      <td>0</td>\n",
       "      <td>55</td>\n",
       "      <td>1</td>\n",
       "      <td>1</td>\n",
       "      <td>5</td>\n",
       "      <td>2</td>\n",
       "    </tr>\n",
       "    <tr>\n",
       "      <th>16</th>\n",
       "      <td>40-44</td>\n",
       "      <td>Man</td>\n",
       "      <td>United States of America</td>\n",
       "      <td>Master’s degree</td>\n",
       "      <td>10-20 years</td>\n",
       "      <td>Data Scientist</td>\n",
       "      <td>1000-9,999 employees</td>\n",
       "      <td>5</td>\n",
       "      <td>0</td>\n",
       "      <td>55</td>\n",
       "      <td>3</td>\n",
       "      <td>1</td>\n",
       "      <td>4</td>\n",
       "      <td>2</td>\n",
       "    </tr>\n",
       "  </tbody>\n",
       "</table>\n",
       "</div>"
      ],
      "text/plain": [
       "      age gender                   country  \\\n",
       "3   55-59    Man                    France   \n",
       "7   30-34    Man                   Germany   \n",
       "8     70+    Man                 Australia   \n",
       "13  40-44    Man  United States of America   \n",
       "16  40-44    Man  United States of America   \n",
       "\n",
       "                                          highest_deg code_experience  \\\n",
       "3   Some college/university study without earning ...     10-20 years   \n",
       "7                                   Bachelor’s degree     10-20 years   \n",
       "8                                     Doctoral degree       20+ years   \n",
       "13                                    Doctoral degree     10-20 years   \n",
       "16                                    Master’s degree     10-20 years   \n",
       "\n",
       "         current_title          company_size  age_enc  gender_enc  \\\n",
       "3       Data Scientist        0-49 employees        8           0   \n",
       "7    Software Engineer     250-999 employees        3           0   \n",
       "8   Research Scientist  1000-9,999 employees       10           0   \n",
       "13  Developer Advocate  1000-9,999 employees        5           0   \n",
       "16      Data Scientist  1000-9,999 employees        5           0   \n",
       "\n",
       "    country_enc  highest_deg_enc  code_experience_enc  current_title_enc  \\\n",
       "3            15                6                    1                  4   \n",
       "7            16                0                    1                 11   \n",
       "8             2                1                    2                 10   \n",
       "13           55                1                    1                  5   \n",
       "16           55                3                    1                  4   \n",
       "\n",
       "    company_size_enc  \n",
       "3                  0  \n",
       "7                  3  \n",
       "8                  2  \n",
       "13                 2  \n",
       "16                 2  "
      ]
     },
     "execution_count": 12,
     "metadata": {},
     "output_type": "execute_result"
    }
   ],
   "source": [
    "x.head()"
   ]
  },
  {
   "cell_type": "markdown",
   "metadata": {},
   "source": [
    "Print a map of the categorical values and the corresponding encoded values.  Copy the returned data and paste it somewhere you can refer back to it frequently."
   ]
  },
  {
   "cell_type": "code",
   "execution_count": 13,
   "metadata": {},
   "outputs": [
    {
     "name": "stdout",
     "output_type": "stream",
     "text": [
      "age mapping: {0: '18-21', 1: '22-24', 2: '25-29', 3: '30-34', 4: '35-39', 5: '40-44', 6: '45-49', 7: '50-54', 8: '55-59', 9: '60-69', 10: '70+'}\n",
      "gender mapping: {0: 'Man', 1: 'Nonbinary', 2: 'Prefer not to say', 3: 'Prefer to self-describe', 4: 'Woman'}\n",
      "country mapping: {0: 'Algeria', 1: 'Argentina', 2: 'Australia', 3: 'Bangladesh', 4: 'Belgium', 5: 'Brazil', 6: 'Cameroon', 7: 'Canada', 8: 'Chile', 9: 'China', 10: 'Colombia', 11: 'Czech Republic', 12: 'Ecuador', 13: 'Egypt', 14: 'Ethiopia', 15: 'France', 16: 'Germany', 17: 'Ghana', 18: 'Hong Kong (S.A.R.)', 19: 'I do not wish to disclose my location', 20: 'India', 21: 'Indonesia', 22: 'Iran, Islamic Republic of...', 23: 'Ireland', 24: 'Israel', 25: 'Italy', 26: 'Japan', 27: 'Kenya', 28: 'Malaysia', 29: 'Mexico', 30: 'Morocco', 31: 'Nepal', 32: 'Netherlands', 33: 'Nigeria', 34: 'Other', 35: 'Pakistan', 36: 'Peru', 37: 'Philippines', 38: 'Poland', 39: 'Portugal', 40: 'Romania', 41: 'Russia', 42: 'Saudi Arabia', 43: 'Singapore', 44: 'South Africa', 45: 'South Korea', 46: 'Spain', 47: 'Sri Lanka', 48: 'Taiwan', 49: 'Thailand', 50: 'Tunisia', 51: 'Turkey', 52: 'Ukraine', 53: 'United Arab Emirates', 54: 'United Kingdom of Great Britain and Northern Ireland', 55: 'United States of America', 56: 'Viet Nam', 57: 'Zimbabwe'}\n",
      "highest_deg mapping: {0: 'Bachelor’s degree', 1: 'Doctoral degree', 2: 'I prefer not to answer', 3: 'Master’s degree', 4: 'No formal education past high school', 5: 'Professional doctorate', 6: 'Some college/university study without earning a bachelor’s degree'}\n",
      "code_experience mapping: {0: '1-3 years', 1: '10-20 years', 2: '20+ years', 3: '3-5 years', 4: '5-10 years', 5: '< 1 years', 6: 'I have never written code'}\n",
      "current_title mapping: {0: 'Data Administrator', 1: 'Data Analyst (Business, Marketing, Financial, Quantitative, etc)', 2: 'Data Architect', 3: 'Data Engineer', 4: 'Data Scientist', 5: 'Developer Advocate', 6: 'Engineer (non-software)', 7: 'Machine Learning/ MLops Engineer', 8: 'Manager (Program, Project, Operations, Executive-level, etc)', 9: 'Other', 10: 'Research Scientist', 11: 'Software Engineer', 12: 'Statistician', 13: 'Teacher / professor'}\n",
      "company_size mapping: {0: '0-49 employees', 1: '10,000 or more employees', 2: '1000-9,999 employees', 3: '250-999 employees', 4: '50-249 employees'}\n"
     ]
    }
   ],
   "source": [
    "# make a map of the categorical values and their corresponding encoded values\n",
    "# from sklearn.preprocessing import LabelEncoder\n",
    "\n",
    "# Initialize the LabelEncoder\n",
    "le = LabelEncoder()\n",
    "\n",
    "columns_to_encode = [\n",
    "    \"age\",\n",
    "    \"gender\",\n",
    "    \"country\",\n",
    "    \"highest_deg\",\n",
    "    \"code_experience\",\n",
    "    \"current_title\",\n",
    "    \"company_size\",\n",
    "]\n",
    "\n",
    "# Loop through each column and apply LabelEncoder individually\n",
    "for column in columns_to_encode:\n",
    "    # Fit the encoder to the column\n",
    "    le.fit(x[column])\n",
    "\n",
    "    # Create a mapping dictionary from label to encoded value using the encoder's classes_\n",
    "    mapping = {\n",
    "        label: code for code, label in zip(le.classes_, range(len(le.classes_)))\n",
    "    }\n",
    "\n",
    "    # Display the mapping\n",
    "    print(column, \"mapping:\", mapping)"
   ]
  },
  {
   "cell_type": "markdown",
   "metadata": {},
   "source": [
    "Review the data frame again. We must drop the non-encoded columns."
   ]
  },
  {
   "cell_type": "code",
   "execution_count": 14,
   "metadata": {},
   "outputs": [
    {
     "data": {
      "text/html": [
       "<div>\n",
       "<style scoped>\n",
       "    .dataframe tbody tr th:only-of-type {\n",
       "        vertical-align: middle;\n",
       "    }\n",
       "\n",
       "    .dataframe tbody tr th {\n",
       "        vertical-align: top;\n",
       "    }\n",
       "\n",
       "    .dataframe thead th {\n",
       "        text-align: right;\n",
       "    }\n",
       "</style>\n",
       "<table border=\"1\" class=\"dataframe\">\n",
       "  <thead>\n",
       "    <tr style=\"text-align: right;\">\n",
       "      <th></th>\n",
       "      <th>age</th>\n",
       "      <th>gender</th>\n",
       "      <th>country</th>\n",
       "      <th>highest_deg</th>\n",
       "      <th>code_experience</th>\n",
       "      <th>current_title</th>\n",
       "      <th>company_size</th>\n",
       "      <th>age_enc</th>\n",
       "      <th>gender_enc</th>\n",
       "      <th>country_enc</th>\n",
       "      <th>highest_deg_enc</th>\n",
       "      <th>code_experience_enc</th>\n",
       "      <th>current_title_enc</th>\n",
       "      <th>company_size_enc</th>\n",
       "    </tr>\n",
       "  </thead>\n",
       "  <tbody>\n",
       "    <tr>\n",
       "      <th>3</th>\n",
       "      <td>55-59</td>\n",
       "      <td>Man</td>\n",
       "      <td>France</td>\n",
       "      <td>Some college/university study without earning ...</td>\n",
       "      <td>10-20 years</td>\n",
       "      <td>Data Scientist</td>\n",
       "      <td>0-49 employees</td>\n",
       "      <td>8</td>\n",
       "      <td>0</td>\n",
       "      <td>15</td>\n",
       "      <td>6</td>\n",
       "      <td>1</td>\n",
       "      <td>4</td>\n",
       "      <td>0</td>\n",
       "    </tr>\n",
       "    <tr>\n",
       "      <th>7</th>\n",
       "      <td>30-34</td>\n",
       "      <td>Man</td>\n",
       "      <td>Germany</td>\n",
       "      <td>Bachelor’s degree</td>\n",
       "      <td>10-20 years</td>\n",
       "      <td>Software Engineer</td>\n",
       "      <td>250-999 employees</td>\n",
       "      <td>3</td>\n",
       "      <td>0</td>\n",
       "      <td>16</td>\n",
       "      <td>0</td>\n",
       "      <td>1</td>\n",
       "      <td>11</td>\n",
       "      <td>3</td>\n",
       "    </tr>\n",
       "    <tr>\n",
       "      <th>8</th>\n",
       "      <td>70+</td>\n",
       "      <td>Man</td>\n",
       "      <td>Australia</td>\n",
       "      <td>Doctoral degree</td>\n",
       "      <td>20+ years</td>\n",
       "      <td>Research Scientist</td>\n",
       "      <td>1000-9,999 employees</td>\n",
       "      <td>10</td>\n",
       "      <td>0</td>\n",
       "      <td>2</td>\n",
       "      <td>1</td>\n",
       "      <td>2</td>\n",
       "      <td>10</td>\n",
       "      <td>2</td>\n",
       "    </tr>\n",
       "    <tr>\n",
       "      <th>13</th>\n",
       "      <td>40-44</td>\n",
       "      <td>Man</td>\n",
       "      <td>United States of America</td>\n",
       "      <td>Doctoral degree</td>\n",
       "      <td>10-20 years</td>\n",
       "      <td>Developer Advocate</td>\n",
       "      <td>1000-9,999 employees</td>\n",
       "      <td>5</td>\n",
       "      <td>0</td>\n",
       "      <td>55</td>\n",
       "      <td>1</td>\n",
       "      <td>1</td>\n",
       "      <td>5</td>\n",
       "      <td>2</td>\n",
       "    </tr>\n",
       "    <tr>\n",
       "      <th>16</th>\n",
       "      <td>40-44</td>\n",
       "      <td>Man</td>\n",
       "      <td>United States of America</td>\n",
       "      <td>Master’s degree</td>\n",
       "      <td>10-20 years</td>\n",
       "      <td>Data Scientist</td>\n",
       "      <td>1000-9,999 employees</td>\n",
       "      <td>5</td>\n",
       "      <td>0</td>\n",
       "      <td>55</td>\n",
       "      <td>3</td>\n",
       "      <td>1</td>\n",
       "      <td>4</td>\n",
       "      <td>2</td>\n",
       "    </tr>\n",
       "  </tbody>\n",
       "</table>\n",
       "</div>"
      ],
      "text/plain": [
       "      age gender                   country  \\\n",
       "3   55-59    Man                    France   \n",
       "7   30-34    Man                   Germany   \n",
       "8     70+    Man                 Australia   \n",
       "13  40-44    Man  United States of America   \n",
       "16  40-44    Man  United States of America   \n",
       "\n",
       "                                          highest_deg code_experience  \\\n",
       "3   Some college/university study without earning ...     10-20 years   \n",
       "7                                   Bachelor’s degree     10-20 years   \n",
       "8                                     Doctoral degree       20+ years   \n",
       "13                                    Doctoral degree     10-20 years   \n",
       "16                                    Master’s degree     10-20 years   \n",
       "\n",
       "         current_title          company_size  age_enc  gender_enc  \\\n",
       "3       Data Scientist        0-49 employees        8           0   \n",
       "7    Software Engineer     250-999 employees        3           0   \n",
       "8   Research Scientist  1000-9,999 employees       10           0   \n",
       "13  Developer Advocate  1000-9,999 employees        5           0   \n",
       "16      Data Scientist  1000-9,999 employees        5           0   \n",
       "\n",
       "    country_enc  highest_deg_enc  code_experience_enc  current_title_enc  \\\n",
       "3            15                6                    1                  4   \n",
       "7            16                0                    1                 11   \n",
       "8             2                1                    2                 10   \n",
       "13           55                1                    1                  5   \n",
       "16           55                3                    1                  4   \n",
       "\n",
       "    company_size_enc  \n",
       "3                  0  \n",
       "7                  3  \n",
       "8                  2  \n",
       "13                 2  \n",
       "16                 2  "
      ]
     },
     "execution_count": 14,
     "metadata": {},
     "output_type": "execute_result"
    }
   ],
   "source": [
    "x.head()"
   ]
  },
  {
   "cell_type": "markdown",
   "metadata": {},
   "source": [
    "Drop the categorical columns. Rename the encoded columns."
   ]
  },
  {
   "cell_type": "code",
   "execution_count": 15,
   "metadata": {},
   "outputs": [],
   "source": [
    "\n",
    "# drop the categroical columns\n",
    "x.drop('age',inplace=True,axis=1) \n",
    "x.drop(\"gender\", inplace=True, axis=1)  \n",
    "x.drop(\"country\", inplace=True, axis=1)\n",
    "x.drop(\"highest_deg\", inplace=True, axis=1)  \n",
    "x.drop(\"code_experience\", inplace=True, axis=1) \n",
    "x.drop(\"current_title\", inplace=True, axis=1) \n",
    "x.drop(\"company_size\", inplace=True, axis=1)\n",
    "\n",
    "# rename the _enc columns to the original column names\n",
    "x.rename(columns={\"age_enc\": \"age\"}, inplace=True)\n",
    "x.rename(columns={\"gender_enc\": \"gender\"}, inplace=True) \n",
    "x.rename(columns={\"country_enc\": \"country\"}, inplace=True)  \n",
    "x.rename(columns={\"highest_deg_enc\": \"highest_deg\"}, inplace=True)\n",
    "x.rename(columns={\"code_experience_enc\": \"code_experience\"}, inplace=True)\n",
    "x.rename(columns={\"current_title_enc\": \"current_title\"}, inplace=True)\n",
    "x.rename(columns={\"company_size_enc\": \"company_size\"}, inplace=True)\n"
   ]
  },
  {
   "cell_type": "markdown",
   "metadata": {},
   "source": [
    "Review the x data frame again to ensure dropping and renaming happened correctly."
   ]
  },
  {
   "cell_type": "code",
   "execution_count": 16,
   "metadata": {},
   "outputs": [
    {
     "data": {
      "text/html": [
       "<div>\n",
       "<style scoped>\n",
       "    .dataframe tbody tr th:only-of-type {\n",
       "        vertical-align: middle;\n",
       "    }\n",
       "\n",
       "    .dataframe tbody tr th {\n",
       "        vertical-align: top;\n",
       "    }\n",
       "\n",
       "    .dataframe thead th {\n",
       "        text-align: right;\n",
       "    }\n",
       "</style>\n",
       "<table border=\"1\" class=\"dataframe\">\n",
       "  <thead>\n",
       "    <tr style=\"text-align: right;\">\n",
       "      <th></th>\n",
       "      <th>age</th>\n",
       "      <th>gender</th>\n",
       "      <th>country</th>\n",
       "      <th>highest_deg</th>\n",
       "      <th>code_experience</th>\n",
       "      <th>current_title</th>\n",
       "      <th>company_size</th>\n",
       "    </tr>\n",
       "  </thead>\n",
       "  <tbody>\n",
       "    <tr>\n",
       "      <th>3</th>\n",
       "      <td>8</td>\n",
       "      <td>0</td>\n",
       "      <td>15</td>\n",
       "      <td>6</td>\n",
       "      <td>1</td>\n",
       "      <td>4</td>\n",
       "      <td>0</td>\n",
       "    </tr>\n",
       "    <tr>\n",
       "      <th>7</th>\n",
       "      <td>3</td>\n",
       "      <td>0</td>\n",
       "      <td>16</td>\n",
       "      <td>0</td>\n",
       "      <td>1</td>\n",
       "      <td>11</td>\n",
       "      <td>3</td>\n",
       "    </tr>\n",
       "    <tr>\n",
       "      <th>8</th>\n",
       "      <td>10</td>\n",
       "      <td>0</td>\n",
       "      <td>2</td>\n",
       "      <td>1</td>\n",
       "      <td>2</td>\n",
       "      <td>10</td>\n",
       "      <td>2</td>\n",
       "    </tr>\n",
       "    <tr>\n",
       "      <th>13</th>\n",
       "      <td>5</td>\n",
       "      <td>0</td>\n",
       "      <td>55</td>\n",
       "      <td>1</td>\n",
       "      <td>1</td>\n",
       "      <td>5</td>\n",
       "      <td>2</td>\n",
       "    </tr>\n",
       "    <tr>\n",
       "      <th>16</th>\n",
       "      <td>5</td>\n",
       "      <td>0</td>\n",
       "      <td>55</td>\n",
       "      <td>3</td>\n",
       "      <td>1</td>\n",
       "      <td>4</td>\n",
       "      <td>2</td>\n",
       "    </tr>\n",
       "  </tbody>\n",
       "</table>\n",
       "</div>"
      ],
      "text/plain": [
       "    age  gender  country  highest_deg  code_experience  current_title  \\\n",
       "3     8       0       15            6                1              4   \n",
       "7     3       0       16            0                1             11   \n",
       "8    10       0        2            1                2             10   \n",
       "13    5       0       55            1                1              5   \n",
       "16    5       0       55            3                1              4   \n",
       "\n",
       "    company_size  \n",
       "3              0  \n",
       "7              3  \n",
       "8              2  \n",
       "13             2  \n",
       "16             2  "
      ]
     },
     "execution_count": 16,
     "metadata": {},
     "output_type": "execute_result"
    }
   ],
   "source": [
    "x.head()"
   ]
  },
  {
   "cell_type": "markdown",
   "metadata": {},
   "source": [
    "Review the y data frame. Notice the y data is also categorical."
   ]
  },
  {
   "cell_type": "code",
   "execution_count": 17,
   "metadata": {},
   "outputs": [
    {
     "data": {
      "text/html": [
       "<div>\n",
       "<style scoped>\n",
       "    .dataframe tbody tr th:only-of-type {\n",
       "        vertical-align: middle;\n",
       "    }\n",
       "\n",
       "    .dataframe tbody tr th {\n",
       "        vertical-align: top;\n",
       "    }\n",
       "\n",
       "    .dataframe thead th {\n",
       "        text-align: right;\n",
       "    }\n",
       "</style>\n",
       "<table border=\"1\" class=\"dataframe\">\n",
       "  <thead>\n",
       "    <tr style=\"text-align: right;\">\n",
       "      <th></th>\n",
       "      <th>annual_comp</th>\n",
       "    </tr>\n",
       "  </thead>\n",
       "  <tbody>\n",
       "    <tr>\n",
       "      <th>3</th>\n",
       "      <td>25,000-29,999</td>\n",
       "    </tr>\n",
       "    <tr>\n",
       "      <th>7</th>\n",
       "      <td>100,000-124,999</td>\n",
       "    </tr>\n",
       "    <tr>\n",
       "      <th>8</th>\n",
       "      <td>100,000-124,999</td>\n",
       "    </tr>\n",
       "    <tr>\n",
       "      <th>13</th>\n",
       "      <td>200,000-249,999</td>\n",
       "    </tr>\n",
       "    <tr>\n",
       "      <th>16</th>\n",
       "      <td>200,000-249,999</td>\n",
       "    </tr>\n",
       "  </tbody>\n",
       "</table>\n",
       "</div>"
      ],
      "text/plain": [
       "        annual_comp\n",
       "3     25,000-29,999\n",
       "7   100,000-124,999\n",
       "8   100,000-124,999\n",
       "13  200,000-249,999\n",
       "16  200,000-249,999"
      ]
     },
     "execution_count": 17,
     "metadata": {},
     "output_type": "execute_result"
    }
   ],
   "source": [
    "y.head()"
   ]
  },
  {
   "cell_type": "markdown",
   "metadata": {},
   "source": [
    "What are the unique categorical values in the annual_comp column?"
   ]
  },
  {
   "cell_type": "code",
   "execution_count": 18,
   "metadata": {},
   "outputs": [
    {
     "data": {
      "text/plain": [
       "array(['25,000-29,999', '100,000-124,999', '200,000-249,999',\n",
       "       '150,000-199,999', '90,000-99,999', '30,000-39,999', '3,000-3,999',\n",
       "       '50,000-59,999', '125,000-149,999', '15,000-19,999', '5,000-7,499',\n",
       "       '10,000-14,999', '20,000-24,999', '$0-999', '7,500-9,999',\n",
       "       '4,000-4,999', '80,000-89,999', '2,000-2,999', '250,000-299,999',\n",
       "       '1,000-1,999', '$500,000-999,999', '70,000-79,999',\n",
       "       '60,000-69,999', '40,000-49,999', '>$1,000,000', '300,000-499,999'],\n",
       "      dtype=object)"
      ]
     },
     "execution_count": 18,
     "metadata": {},
     "output_type": "execute_result"
    }
   ],
   "source": [
    "y.annual_comp.unique()"
   ]
  },
  {
   "cell_type": "markdown",
   "metadata": {},
   "source": [
    "<br>"
   ]
  },
  {
   "cell_type": "markdown",
   "metadata": {},
   "source": [
    "### <font color=\"crimson\"> This step is super-sketchy. </font> \n",
    "\n",
    "I did this so the model would return a specific predicted salary value rather than a categorical salary range.\n",
    "\n",
    "I create a random integer between the low and high values in the categorical salary range."
   ]
  },
  {
   "cell_type": "code",
   "execution_count": 19,
   "metadata": {},
   "outputs": [
    {
     "name": "stdout",
     "output_type": "stream",
     "text": [
      "       annual_comp\n",
      "3            25149\n",
      "7           112788\n",
      "8           102077\n",
      "13          240417\n",
      "16          240534\n",
      "...            ...\n",
      "23984       115184\n",
      "23989         2869\n",
      "23990          708\n",
      "23994        29674\n",
      "23995        18029\n",
      "\n",
      "[8136 rows x 1 columns]\n"
     ]
    }
   ],
   "source": [
    "# import pandas as pd'\n",
    "# import random\n",
    "\n",
    "# function to calculate the midpoint of a salary range\n",
    "def calculate_midpoint(salary_range):\n",
    "    if salary_range == \">$1,000,000\":\n",
    "        # Handle this case as needed; here I'm assuming $1,000,000 as a placeholder\n",
    "        return 1000000\n",
    "    else:\n",
    "        # Remove any commas and dollar signs, then split by '-'\n",
    "        low, high = salary_range.replace(\",\", \"\").replace(\"$\", \"\").split(\"-\")\n",
    "        # Calculate and return the midpoint\n",
    "        # midpoint = round((int(low) + int(high)) / 2)\n",
    "        # return (int(low) + midpoint)\n",
    "        return round(random.randint(int(low), int(high)))\n",
    "\n",
    "# Apply the function to the 'annual_comp' column\n",
    "y[\"annual_comp\"] = y[\"annual_comp\"].apply(calculate_midpoint)\n",
    "\n",
    "# Display the updated DataFrame\n",
    "print(y)"
   ]
  },
  {
   "cell_type": "markdown",
   "metadata": {},
   "source": [
    "Review the data frame. Have the categorical ranges been replaced by random values?"
   ]
  },
  {
   "cell_type": "code",
   "execution_count": 20,
   "metadata": {
    "scrolled": true
   },
   "outputs": [
    {
     "data": {
      "text/html": [
       "<div>\n",
       "<style scoped>\n",
       "    .dataframe tbody tr th:only-of-type {\n",
       "        vertical-align: middle;\n",
       "    }\n",
       "\n",
       "    .dataframe tbody tr th {\n",
       "        vertical-align: top;\n",
       "    }\n",
       "\n",
       "    .dataframe thead th {\n",
       "        text-align: right;\n",
       "    }\n",
       "</style>\n",
       "<table border=\"1\" class=\"dataframe\">\n",
       "  <thead>\n",
       "    <tr style=\"text-align: right;\">\n",
       "      <th></th>\n",
       "      <th>annual_comp</th>\n",
       "    </tr>\n",
       "  </thead>\n",
       "  <tbody>\n",
       "    <tr>\n",
       "      <th>3</th>\n",
       "      <td>25149</td>\n",
       "    </tr>\n",
       "    <tr>\n",
       "      <th>7</th>\n",
       "      <td>112788</td>\n",
       "    </tr>\n",
       "    <tr>\n",
       "      <th>8</th>\n",
       "      <td>102077</td>\n",
       "    </tr>\n",
       "    <tr>\n",
       "      <th>13</th>\n",
       "      <td>240417</td>\n",
       "    </tr>\n",
       "    <tr>\n",
       "      <th>16</th>\n",
       "      <td>240534</td>\n",
       "    </tr>\n",
       "  </tbody>\n",
       "</table>\n",
       "</div>"
      ],
      "text/plain": [
       "    annual_comp\n",
       "3         25149\n",
       "7        112788\n",
       "8        102077\n",
       "13       240417\n",
       "16       240534"
      ]
     },
     "execution_count": 20,
     "metadata": {},
     "output_type": "execute_result"
    }
   ],
   "source": [
    "y.head()"
   ]
  },
  {
   "cell_type": "markdown",
   "metadata": {},
   "source": [
    "<br>"
   ]
  },
  {
   "cell_type": "markdown",
   "metadata": {},
   "source": [
    "## Build the machine learning model"
   ]
  },
  {
   "cell_type": "markdown",
   "metadata": {},
   "source": [
    "Split the x and y data frames into training and testing data for the model."
   ]
  },
  {
   "cell_type": "code",
   "execution_count": 21,
   "metadata": {},
   "outputs": [],
   "source": [
    "# create a train test split\n",
    "# from sklearn.model_selection import train_test_split\n",
    "x_train,x_test,y_train,y_test = train_test_split(x,y,test_size=0.2,random_state=0)"
   ]
  },
  {
   "cell_type": "code",
   "execution_count": 22,
   "metadata": {},
   "outputs": [
    {
     "data": {
      "text/plain": [
       "(1628, 7)"
      ]
     },
     "execution_count": 22,
     "metadata": {},
     "output_type": "execute_result"
    }
   ],
   "source": [
    "x_test.shape"
   ]
  },
  {
   "cell_type": "markdown",
   "metadata": {},
   "source": [
    "Train a random forest regression model.\n",
    "\n",
    "I'm not a machine learning model person. I'm not entirely sure what n_estimators and max_depth are doing in this part of the code."
   ]
  },
  {
   "cell_type": "code",
   "execution_count": 23,
   "metadata": {},
   "outputs": [],
   "source": [
    "# train a random forest regressor model\n",
    "# from sklearn.ensemble import RandomForestRegressor\n",
    "model = RandomForestRegressor(n_estimators=70, max_depth=7)\n",
    "model.fit(x_train, y_train.values.ravel())  # if y_train is a dataframe\n",
    "y_predict = model.predict(x_test)"
   ]
  },
  {
   "cell_type": "markdown",
   "metadata": {},
   "source": [
    "<br>"
   ]
  },
  {
   "cell_type": "markdown",
   "metadata": {},
   "source": [
    "## Evaluate the model"
   ]
  },
  {
   "cell_type": "markdown",
   "metadata": {},
   "source": [
    "Get the mean absolute error and r2 score for the model. \n",
    "\n",
    "If you are a machine learning person, continue to tune the model to get the best possible scores."
   ]
  },
  {
   "cell_type": "code",
   "execution_count": 24,
   "metadata": {},
   "outputs": [
    {
     "name": "stdout",
     "output_type": "stream",
     "text": [
      "MAE :  37669.38643787937\n",
      "r2 score :  0.26277569139081336\n"
     ]
    }
   ],
   "source": [
    "# from sklearn.metrics import mean_absolute_error, r2_score\n",
    "print(\"MAE : \", mean_absolute_error(y_test,y_predict))\n",
    "print(\"r2 score : \", r2_score(y_test,y_predict))"
   ]
  },
  {
   "cell_type": "markdown",
   "metadata": {},
   "source": [
    "<br>"
   ]
  },
  {
   "cell_type": "markdown",
   "metadata": {},
   "source": [
    "## Export the model"
   ]
  },
  {
   "cell_type": "markdown",
   "metadata": {},
   "source": [
    "When you are happy with your model performance, dump it out to a file."
   ]
  },
  {
   "cell_type": "code",
   "execution_count": 25,
   "metadata": {},
   "outputs": [
    {
     "data": {
      "text/plain": [
       "['salary_predict_model.ml']"
      ]
     },
     "execution_count": 25,
     "metadata": {},
     "output_type": "execute_result"
    }
   ],
   "source": [
    "# save the model\n",
    "# import joblib\n",
    "joblib.dump(model,'salary_predict_model.ml')"
   ]
  },
  {
   "cell_type": "markdown",
   "metadata": {},
   "source": [
    "<br>"
   ]
  },
  {
   "cell_type": "markdown",
   "metadata": {},
   "source": [
    "## Test the exported model"
   ]
  },
  {
   "cell_type": "markdown",
   "metadata": {},
   "source": [
    "To test your model, load the model file you created in the step above."
   ]
  },
  {
   "cell_type": "code",
   "execution_count": 26,
   "metadata": {},
   "outputs": [],
   "source": [
    "# load the model we just created\n",
    "# import joblib\n",
    "model = joblib.load('salary_predict_model.ml')"
   ]
  },
  {
   "cell_type": "markdown",
   "metadata": {},
   "source": [
    "Then run it, passing in dependent variables. These are the mapped numerical labels of the categorical values. You can get the numeric values by looking at the mapping you copied and pasted out to a file a few steps earlier.\n",
    "\n",
    "To predict a salary, you must pass in the values in the correct order (age,gender,country,highest_deg,coding_exp, title, company_size)\n",
    "\n",
    "Making a salary prediction for myself in 5 years:\n",
    "\n",
    "1: '22-24'  \n",
    "0: 'Man'  \n",
    "55: 'United States of America'  \n",
    "0: 'Bachelor’s degree'  \n",
    "3: '3-5 years'  \n",
    "1: 'Data Analyst (Business, Marketing, Financial, Quantitative, etc)'  \n",
    "1: '10,000 or more employees'  \n",
    "\n",
    "The returned value will be different for everyone, because the salary values are randomly generated.\n",
    "\n",
    "I made a salary prediction for what I think my salary may look like in in the next 5 years. "
   ]
  },
  {
   "cell_type": "code",
   "execution_count": 27,
   "metadata": {},
   "outputs": [
    {
     "name": "stderr",
     "output_type": "stream",
     "text": [
      "C:\\Users\\ryan4\\anaconda3\\Lib\\site-packages\\sklearn\\base.py:493: UserWarning: X does not have valid feature names, but RandomForestRegressor was fitted with feature names\n",
      "  warnings.warn(\n"
     ]
    },
    {
     "data": {
      "text/plain": [
       "array([120889.58942364])"
      ]
     },
     "execution_count": 27,
     "metadata": {},
     "output_type": "execute_result"
    }
   ],
   "source": [
    "model.predict([[1,0,55,0,3,1,1]]) # predict the salary for a new data point\n",
    "\n",
    "# generates a warning because we're passing just a plain list, not a pandas dataframe with \n",
    "# the same feature names the model was trained on\n"
   ]
  },
  {
   "cell_type": "code",
   "execution_count": 28,
   "metadata": {},
   "outputs": [],
   "source": [
    "# to get rid of the warning, we can generate a dataframe with the correct column names\n",
    "\n",
    "input_data = pd.DataFrame([[1, 0, 55, 0, 3, 1, 1]],\n",
    "    columns=[\"age\", \"gender\", \"country\", \"highest_deg\", \"code_experience\", \"current_title\", \"company_size\"])\n"
   ]
  },
  {
   "cell_type": "code",
   "execution_count": 29,
   "metadata": {},
   "outputs": [
    {
     "name": "stdout",
     "output_type": "stream",
     "text": [
      "   age  gender  country  highest_deg  code_experience  current_title  \\\n",
      "0    1       0       55            0                3              1   \n",
      "\n",
      "   company_size  \n",
      "0             1  \n"
     ]
    }
   ],
   "source": [
    "print(input_data)"
   ]
  },
  {
   "cell_type": "code",
   "execution_count": 30,
   "metadata": {},
   "outputs": [
    {
     "name": "stdout",
     "output_type": "stream",
     "text": [
      "predicted salary: $120,889.59\n"
     ]
    }
   ],
   "source": [
    "prediction = model.predict(input_data)\n",
    "print(f\"predicted salary: ${prediction[0]:,.2f}\")"
   ]
  },
  {
   "cell_type": "code",
   "execution_count": null,
   "metadata": {},
   "outputs": [],
   "source": []
  }
 ],
 "metadata": {
  "kernelspec": {
   "display_name": "Python 3 (ipykernel)",
   "language": "python",
   "name": "python3"
  },
  "language_info": {
   "codemirror_mode": {
    "name": "ipython",
    "version": 3
   },
   "file_extension": ".py",
   "mimetype": "text/x-python",
   "name": "python",
   "nbconvert_exporter": "python",
   "pygments_lexer": "ipython3",
   "version": "3.12.4"
  }
 },
 "nbformat": 4,
 "nbformat_minor": 4
}
